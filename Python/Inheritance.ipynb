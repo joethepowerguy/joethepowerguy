{
 "cells": [
  {
   "cell_type": "code",
   "execution_count": 37,
   "id": "b6ab8a23",
   "metadata": {},
   "outputs": [
    {
     "name": "stdout",
     "output_type": "stream",
     "text": [
      "Bob.Martin@company.com\n",
      "---> Henry Ford\n"
     ]
    }
   ],
   "source": [
    "class Employee:\n",
    "    raise_amount = 1.04\n",
    "    def __init__(self, first, last, pay):\n",
    "        self.first = first\n",
    "        self.last = last\n",
    "        self.pay = pay\n",
    "        self.email = first + '.' + last + '@company.com'\n",
    "        \n",
    "    def full_name(self):\n",
    "        return '{} {}'.format(self.first, self.last)\n",
    "    \n",
    "    def raise_pay(self):\n",
    "        self.pay = int(self.pay * self.raise_amount)\n",
    "        \n",
    "class Developer(Employee):\n",
    "    raise_amount = 1.10\n",
    "    \n",
    "    def __init__(self, first, last, pay, prog_lang):\n",
    "        super().__init__(first, last, pay)\n",
    "        self.prog_lang =   prog_lang\n",
    "        \n",
    "class Manager(Employee):\n",
    "    \n",
    "    def __init__(self, first, last, pay, employees=None):\n",
    "        super().__init__(first, last, pay)\n",
    "        if employees is None:\n",
    "            self.employees = []\n",
    "        else:\n",
    "            self.employees = employees\n",
    "            \n",
    "    def add_emp(self, emp):\n",
    "        if emp not in self.employees:\n",
    "            self.employees.append(emp)\n",
    "            \n",
    "    def remove_emp(self, emp):\n",
    "        if emp in self.employees:\n",
    "            self.employees.remove(emp)\n",
    "            \n",
    "    def print_emps(self):\n",
    "        for emp in self.employees:\n",
    "            print('--->', emp.full_name())\n",
    "                \n",
    "                \n",
    "    \n",
    "dev_1 = Developer('Henry', 'Ford', 80000, 'Python')\n",
    "mgr_1 = Manager('Bob', 'Martin', 100000, [dev_1])\n",
    "print (mgr_1.email)\n",
    "mgr_1.print_emps()\n",
    "\n",
    "#print (dev_1.prog_lang)\n",
    "#print (dev_1.pay)\n",
    "#print (dev_1.full_name())\n",
    "#dev_1.raise_pay()\n",
    "#print (dev_1.pay)\n",
    "#print(mgr_1.employees) \n",
    "#print(help(Developer))"
   ]
  },
  {
   "cell_type": "code",
   "execution_count": null,
   "id": "1f15af0a",
   "metadata": {},
   "outputs": [],
   "source": []
  },
  {
   "cell_type": "code",
   "execution_count": null,
   "id": "1629d3cd",
   "metadata": {},
   "outputs": [],
   "source": []
  }
 ],
 "metadata": {
  "kernelspec": {
   "display_name": "Python 3 (ipykernel)",
   "language": "python",
   "name": "python3"
  },
  "language_info": {
   "codemirror_mode": {
    "name": "ipython",
    "version": 3
   },
   "file_extension": ".py",
   "mimetype": "text/x-python",
   "name": "python",
   "nbconvert_exporter": "python",
   "pygments_lexer": "ipython3",
   "version": "3.9.7"
  }
 },
 "nbformat": 4,
 "nbformat_minor": 5
}
