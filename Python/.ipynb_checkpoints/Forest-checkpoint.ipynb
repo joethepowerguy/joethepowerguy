{
 "cells": [
  {
   "cell_type": "code",
   "execution_count": null,
   "id": "5ded5c89",
   "metadata": {},
   "outputs": [],
   "source": [
    "import numpy as np\n",
    "import cv2 as cv\n",
    "import random\n",
    "\n",
    "# general parameters\n",
    "width = 900\n",
    "height = 600\n",
    "n_trees = 30\n",
    "ground_level = height-100\n",
    "\n",
    "# colours\n",
    "green, light_green, brown = (40,185,40),(25,220,0),(30,65,155)\n",
    "\n",
    "# blank image\n",
    "bg = np.zeros((height, width, 3), dtype=np.uint8)\n",
    "\n",
    "# draw background\n",
    "cv.rectangle(bg,(width,0), (0, ground_level), (255,225,95), -1)\n",
    "cv.rectangle(bg,(width, ground_level), (0, height), green, -1)\n",
    "\n",
    "class Tree:\n",
    "    def __init__(self, image, location):\n",
    "        self.img = image\n",
    "        self.loc = location\n",
    "        self.ht = 300\n",
    "        self.radius = 100\n",
    "    def draw(self):\n",
    "        # trunk\n",
    "        cv.line(self.img, (self.loc, ground_level), (self.loc, self.ht), brown, 20)\n",
    "        #leafs\n",
    "        cv.circle (self.img, (self.loc, self.ht), self.radius, green, -1)\n",
    "        return self.img\n",
    "    \n",
    "#display image\n",
    "img = Tree(bg, 450).draw()\n",
    "cv.imshow('forest of objects', img) \n",
    "\n",
    "cv.waitKey(0)\n",
    "cv.destroyAllWindows()"
   ]
  },
  {
   "cell_type": "code",
   "execution_count": null,
   "id": "1d378bf6",
   "metadata": {},
   "outputs": [],
   "source": []
  },
  {
   "cell_type": "code",
   "execution_count": null,
   "id": "bf51c5a6",
   "metadata": {},
   "outputs": [],
   "source": []
  },
  {
   "cell_type": "code",
   "execution_count": null,
   "id": "f61b95a5",
   "metadata": {},
   "outputs": [],
   "source": []
  },
  {
   "cell_type": "code",
   "execution_count": null,
   "id": "dba5a46e",
   "metadata": {},
   "outputs": [],
   "source": []
  },
  {
   "cell_type": "code",
   "execution_count": null,
   "id": "ea470033",
   "metadata": {},
   "outputs": [],
   "source": []
  },
  {
   "cell_type": "code",
   "execution_count": null,
   "id": "74ea7d53",
   "metadata": {},
   "outputs": [],
   "source": []
  }
 ],
 "metadata": {
  "kernelspec": {
   "display_name": "Python 3 (ipykernel)",
   "language": "python",
   "name": "python3"
  },
  "language_info": {
   "codemirror_mode": {
    "name": "ipython",
    "version": 3
   },
   "file_extension": ".py",
   "mimetype": "text/x-python",
   "name": "python",
   "nbconvert_exporter": "python",
   "pygments_lexer": "ipython3",
   "version": "3.9.7"
  }
 },
 "nbformat": 4,
 "nbformat_minor": 5
}
