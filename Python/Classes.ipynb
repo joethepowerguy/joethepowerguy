{
 "cells": [
  {
   "cell_type": "code",
   "execution_count": 41,
   "id": "ea9c3457",
   "metadata": {},
   "outputs": [
    {
     "name": "stdout",
     "output_type": "stream",
     "text": [
      "{'first': 'Bob', 'last': 'Macneil', 'pay': 52500, 'email': 'Bob.Macneil@company.com', 'raise_amount': 1.05}\n",
      "{'first': 'Ralph', 'last': 'Smith', 'pay': 62400, 'email': 'Ralph.Smith@company.com'}\n",
      "{'first': 'Henry', 'last': 'Ford', 'pay': 83200, 'email': 'Henry.Ford@company.com'}\n",
      "Bob Macneil\n",
      "Bob Macneil\n",
      "Bob.Macneil@company.com\n",
      "Ralph Smith\n",
      "Ralph.Smith@company.com\n",
      "3\n",
      "1.05\n",
      "1.04\n",
      "52500\n",
      "62400\n",
      "83200\n"
     ]
    }
   ],
   "source": [
    "class Employee:\n",
    "    \n",
    "    num_of_emps = 0\n",
    "    raise_amount = 1.04\n",
    "    def __init__(self,first,last,pay):\n",
    "        self.first = first\n",
    "        self.last = last\n",
    "        self.pay = pay\n",
    "        self.email = first + '.' + last + '@company.com'\n",
    "        \n",
    "        Employee.num_of_emps +=1\n",
    "        \n",
    "    def fullname(self):\n",
    "        return '{} {}'.format(self.first, self.last)\n",
    "    \n",
    "    def apply_raise(self):\n",
    "        self.pay = int(self.pay * self.raise_amount)\n",
    "\n",
    "emp_1 = Employee('Bob', 'Macneil', 50000)\n",
    "emp_2 = Employee('Ralph', 'Smith', 60000)\n",
    "emp_3 = Employee('Henry','Ford', 80000)\n",
    "\n",
    "emp_1.raise_amount = 1.05\n",
    "emp_1.apply_raise()\n",
    "emp_2.apply_raise()\n",
    "emp_3.apply_raise()\n",
    "print (emp_1.__dict__)\n",
    "print (emp_2.__dict__)\n",
    "print (emp_3.__dict__)\n",
    "print(Employee.fullname(emp_1))\n",
    "print (emp_1.fullname())\n",
    "print (emp_1.email)\n",
    "print (emp_2.fullname())\n",
    "print (emp_2.email)\n",
    "print (Employee.num_of_emps)\n",
    "print (emp_1.raise_amount)\n",
    "print (emp_2.raise_amount)\n",
    "print (emp_1.pay)\n",
    "print (emp_2.pay) \n",
    "print (emp_3.pay)"
   ]
  },
  {
   "cell_type": "code",
   "execution_count": null,
   "id": "87eceacd",
   "metadata": {},
   "outputs": [],
   "source": []
  },
  {
   "cell_type": "code",
   "execution_count": null,
   "id": "5ba8237c",
   "metadata": {},
   "outputs": [],
   "source": []
  },
  {
   "cell_type": "code",
   "execution_count": null,
   "id": "1af057f4",
   "metadata": {},
   "outputs": [],
   "source": []
  }
 ],
 "metadata": {
  "kernelspec": {
   "display_name": "Python 3 (ipykernel)",
   "language": "python",
   "name": "python3"
  },
  "language_info": {
   "codemirror_mode": {
    "name": "ipython",
    "version": 3
   },
   "file_extension": ".py",
   "mimetype": "text/x-python",
   "name": "python",
   "nbconvert_exporter": "python",
   "pygments_lexer": "ipython3",
   "version": "3.9.7"
  }
 },
 "nbformat": 4,
 "nbformat_minor": 5
}
