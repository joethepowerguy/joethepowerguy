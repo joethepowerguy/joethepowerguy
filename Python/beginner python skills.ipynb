{
 "cells": [
  {
   "cell_type": "code",
   "execution_count": 14,
   "id": "9206b426",
   "metadata": {},
   "outputs": [
    {
     "name": "stdout",
     "output_type": "stream",
     "text": [
      "The sum of num1 and num2 is: 12\n",
      "The value of 5 and 10 is known\n",
      "My first love is pie and my second is cake\n",
      "My first love is pie and my second is cake\n",
      "My first love is cake and my second is pie\n",
      "Please enter your name: bobo\n",
      "Please enter your age: 22\n",
      "Good morning bobo!\n",
      "I see you are 22 years old.\n"
     ]
    }
   ],
   "source": [
    "#This is a program showing a example of user defined functions\n",
    "\n",
    "\n",
    "def add_numbers(x,y):\n",
    "    sum = x + y\n",
    "    return sum\n",
    "    \n",
    "num1 = 5\n",
    "num2 = 7\n",
    "    \n",
    "print(\"The sum of num1 and num2 is:\",add_numbers(num1, num2))\n",
    "\n",
    "#using placeholders\n",
    "x = 5; y = 10\n",
    "print (\"The value of {} and {} is known\".format(x,y))\n",
    "\n",
    "#using placeholders for text\n",
    "print(\"My first love is {} and my second is {}\".format(\"pie\", \"cake\"))\n",
    "\n",
    "#using placeholders for text using tuple ordering\n",
    "\n",
    "print(\"My first love is {0} and my second is {1}\".format(\"pie\", \"cake\"))\n",
    "print(\"My first love is {1} and my second is {0}\".format(\"pie\", \"cake\"))\n",
    "\n",
    "#inputing data and formatting a print sting\n",
    "\n",
    "name = input(\"Please enter your name: \")\n",
    "age = input (\"Please enter your age: \")\n",
    "print(\"Good morning {}!\\nI see you are {} years old.\".format(name, age))\n"
   ]
  },
  {
   "cell_type": "code",
   "execution_count": null,
   "id": "7e03ae17",
   "metadata": {},
   "outputs": [],
   "source": []
  }
 ],
 "metadata": {
  "kernelspec": {
   "display_name": "Python 3 (ipykernel)",
   "language": "python",
   "name": "python3"
  },
  "language_info": {
   "codemirror_mode": {
    "name": "ipython",
    "version": 3
   },
   "file_extension": ".py",
   "mimetype": "text/x-python",
   "name": "python",
   "nbconvert_exporter": "python",
   "pygments_lexer": "ipython3",
   "version": "3.9.7"
  }
 },
 "nbformat": 4,
 "nbformat_minor": 5
}
